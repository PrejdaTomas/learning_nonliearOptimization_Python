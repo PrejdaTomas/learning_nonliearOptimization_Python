{
 "cells": [
  {
   "cell_type": "markdown",
   "metadata": {},
   "source": [
    "Zdroj: https://youtube.com/watch?v=Kln0ZQ7sX8k&listen=false\\\n",
    "Pokud nejsem schopen zjistit Hessián, mohu jej aproximovat Gauss-Newtonovou metodou.\n",
    "\n",
    "$ y = f(x; \\beta) + \\epsilon $\\\n",
    "$x$... nezávislá proměnná\\\n",
    "$\\beta$... koeficient\\\n",
    "$\\epsilon$... šum\n",
    "\n",
    "Předpokládám, že funkce je nelineárně závislá na $\\beta$.\n",
    "\n",
    "Reziduum $r_i = y_i - f(x_i; \\beta)$\\\n",
    "minimalizuji $SSRE = \\sum{{r_i}^2}$\n",
    "\n",
    "Ve funkci jedné proměnné minimum derivace najdu Newtonovou metodou:\\\n",
    "$x_{t+1} = x_{t}  + \\frac{f'(x_t)}{f''(x_t)}$\n",
    "\n",
    "Obdoba pro funkci více proměnných:\\\n",
    "$x_{t+1} = x_{t}  + {H_x}^{-1}\\nabla_xf$\n"
   ]
  },
  {
   "cell_type": "markdown",
   "metadata": {},
   "source": [
    "Derivace funkce SSRE při zvoleném koeficientu $\\beta_j$ (j je iterace):\n",
    "Pro gradient jsme použili řetězové pravidlo.\n",
    "\n",
    "$\\nabla_{\\beta_j}({SSRE)} = \\sum{2r_i·\\frac{\\partial{r_i}}{\\partial{\\beta_j}}}= \\sum{-2(r_i·\\frac{\\partial{f_i}}{\\partial{\\beta_j}})}$\n",
    "\n",
    "\n",
    "Proč je tam to $2r_i$? Protože funkce SSRE je $SSRE = \\sum{{r_i}^2}$ a její derivace je $\\sum{2r_i·\\frac{\\partial{r_i}}{\\partial{\\beta_j}}} $\\\n",
    "Zároveň $r_i = y_i - f(x_i; \\beta)$, $\\sum{2r_i·\\frac{\\partial{r_i}}{\\partial{\\beta_j}}} = \\sum{2r_i·\\frac{\\partial{y_i - f(x_i; \\beta)}}{\\partial{\\beta_j}}} = \\sum{2r_i·\\frac{{0 - \\partial f(x_i; \\beta)}}{\\partial{\\beta_j}}} = \\sum{-2(r_i·\\frac{\\partial{f_i}}{\\partial{\\beta_j}})}$ (parciální derivace $y_i$ vůči $beta_j$ je 0)\n",
    "\n",
    "\\\n",
    "\\\n",
    "Generalizace (derivace SSRE vůči všem koeficientům - gradient):\n",
    "\n",
    "$\\nabla({SSRE)}  = -2·J^T·\\vec{r}$\n",
    "\n",
    "J je Jakobián, předpokládáme, že máme až p koeficientů (sloupců) a n měření/bodů (řádků).\\\n",
    "<img src=\"./picture_gaussNewton1.PNG\" alt=\"Jakobián\"  width=\"300\"  height=\"150\">\n",
    "\n",
    "Pro druhou derivaci dle j a dle k použijeme součinové pravidlo derivací. V okamžiku, kdy se poprvé objevila ve vztahu aproximace se z toho stala Gauss-Newtonova metoda.\n",
    "\n",
    "$\\nabla_{\\beta_j beta_k}(SSRE) = -2 \\sum (-\\frac{\\partial{f_i}}{\\partial{\\beta_k}}·\\frac{\\partial{f_i}}{\\partial{\\beta_j}}+ r_i·\\frac{\\partial^2{f_i}}{\\partial{\\beta_j} \\partial{\\beta_k}}) \\approx 2 \\sum {\\frac{\\partial{f_i}}{\\partial{\\beta_k}}·\\frac{\\partial{f_i}}{\\partial{\\beta_j}}} $\n",
    "\n",
    "\\\n",
    "\\\n",
    "S použitím dané aproximace Hessiánu Gauss-Newtonovou metodou můžeme použít kompaktní tvar\n",
    "$\\nabla_{\\beta_j beta_k}(SSRE) \\approx 2 \\sum {\\frac{\\partial{f_i}}{\\partial{\\beta_k}}·\\frac{\\partial{f_i}}{\\partial{\\beta_j}}} = 2·J^T·J$\\\n",
    "($J^T·J$ je velikost vektoru jakobiánu)\n",
    "\n",
    "\\\n",
    "\\\n",
    "\\\n",
    "Newtonova metoda více proměnných:\n",
    "\n",
    "$\\beta_{t+1} = \\beta{t} - ((\\nabla_\\beta)^2(SSRE))^{-1}\\nabla_\\beta(SSRE) = \\beta{t} - H^{-1}\\nabla_\\beta(SSRE)$\n",
    "\n",
    "\\\n",
    "\\\n",
    "Gauss-Newtonova metoda více proměnných:\n",
    "$\\beta_{t+1} = \\beta{t} - ((\\nabla_\\beta)^2(SSRE))^{-1}\\nabla_\\beta(SSRE) = \\approx \\beta{t} - (2·{J_t}^T·{J_t})^{-1} (-2·{J_t}^T·r_t) = \\beta_{t} + ({J_t}^T·{J_t})^{-1} {J_t}^T·r_t$\n",
    "\n",
    "\\\n",
    "\\\n",
    "\\\n",
    "\\\n",
    "\\\n",
    "\\\n",
    "Jak tedy udělat tu aproximaci funkce jako takovou?\n",
    "\n"
   ]
  },
  {
   "cell_type": "markdown",
   "metadata": {},
   "source": [
    "Aproximace funkce:\\\n",
    "$f(x; \\beta) \\approx f(x; \\beta_t) + \\nabla_\\beta f(x; \\beta_t)[\\beta-\\beta_t]$\n",
    "\n",
    "Aproximace reziduí:\\\n",
    "$r_i = y_i - f(x; \\beta) \\approx y_i - f(x; \\beta_t) - \\nabla_\\beta f(x; \\beta_t)[\\beta-\\beta_t]$\n",
    "\n",
    "Zavedeme si pracovní veličiny (s vlnkou, ty jsou počítány průběžně iteračně):\\\n",
    "$ \\tilde{y_i} =  y_i - f(x; \\beta_t)$\\\n",
    "$ \\tilde{x_i} = \\nabla_\\beta f(x; \\beta_t) $\\\n",
    "$ \\tilde{\\beta} = \\beta-\\beta_t $\n",
    "\n",
    "\n",
    "Po zavedení pracovních veličin získáváme pro aproximaci rezidua kompaktní LINEÁRNÍ vztah \\\n",
    "$r_i \\approx \\tilde{y_i} - {\\tilde{x_i}}^T\\tilde{\\beta}$\n",
    "\n",
    "Známe čísla $y_i$, $x_i$, $\\beta$ se snažíme najít.\n",
    "\\\n",
    "\\\n",
    "\\\n",
    "Budeme tedy minimalizovat bety ve vztahu:\\\n",
    "$\\tilde{y} - \\tilde{X}·{\\beta}$\\\n",
    "kde $\\tilde{X}$ je jakobiánem naší funkcí $J_f$\n",
    "\\\n",
    "\\\n",
    "\\\n",
    "Řešením pro pracovní koeficienty $\\tilde{\\beta}$ je tedy vztah:\n",
    "$\\tilde{\\vec{\\beta}} = ({J_t}^T·J_t)^{-1}{J_t}^T·\\tilde{\\vec{y}} = ({J_t}^T·J_t)^{-1}{J_t}^Tr_t$\n",
    "\\\n",
    "Proč je tam teď jen to $r_t$? Viz $r_i = y_i - f(x_i; \\beta)$ a derivace y_i dle koeficientu je 0.\n",
    "\n",
    "Pokud zpětně rozbouráme $\\tilde{\\beta}$:\n",
    "$\\nabla_\\beta f(x; \\beta_t) = ({J_t}^T·J_t)^{-1}{J_t}^Tr_t$\n",
    "\n",
    "Přeskládáním rovnice:\n",
    "$\\beta_{t+1} = \\beta_{t} + ({J_t}^T·{J_t})^{-1} {J_t}^T·r_t$\n",
    "\\\n",
    "\\\n",
    "\\\n",
    "\\\n",
    "\\\n",
    "\n"
   ]
  },
  {
   "cell_type": "code",
   "execution_count": 227,
   "metadata": {},
   "outputs": [],
   "source": [
    "import numpy as np\n",
    "import numpy.typing as npt\n",
    "import typing\n",
    "import scipy.linalg as spLinalg\n",
    "import scipy.optimize as spOptimize\n",
    "import matplotlib.pyplot as plt\n",
    "import sympy as sp"
   ]
  },
  {
   "cell_type": "markdown",
   "metadata": {},
   "source": [
    "Vyzkoušejme si 1D případ pro funkci níže:\n",
    "$y = \\frac {2x}{3+x}$"
   ]
  },
  {
   "cell_type": "code",
   "execution_count": 228,
   "metadata": {},
   "outputs": [],
   "source": [
    "def functionChaos(a: float, b: float, x:npt.NDArray[np.float32], chaosMag: typing.Optional[float] = 0.2) -> npt.NDArray[np.float32]:\n",
    "    # funkce s bordýlkem\n",
    "    result =  (a*x)/(b+x)\n",
    "    return result + np.random.normal(-chaosMag, chaosMag, len(result))\n",
    "\n",
    "def functionPure(a: float, b: float, x:npt.NDArray[np.float32]) -> npt.NDArray[np.float32]:\n",
    "    # funkce bez bordýlku\n",
    "    return (a*x)/(b+x)\n"
   ]
  },
  {
   "cell_type": "code",
   "execution_count": 229,
   "metadata": {},
   "outputs": [
    {
     "data": {
      "image/png": "[encoded data removed]",
      "text/plain": [
       "<Figure size 300x200 with 1 Axes>"
      ]
     },
     "metadata": {},
     "output_type": "display_data"
    }
   ],
   "source": [
    "a: float = 2.0\n",
    "b: float = 3.0\n",
    "x: npt.NDArray[np.float32] = np.linspace(-2.5, 2.5, 51)\n",
    "y: npt.NDArray[np.float32] = functionChaos(a=a, b=b, x=x)\n",
    "fig,ax = plt.subplots()\n",
    "ax.scatter(x,y)\n",
    "ax.grid()\n",
    "fig.set_size_inches(3,2)"
   ]
  },
  {
   "cell_type": "markdown",
   "metadata": {},
   "source": [
    "Teď numericky vyřešíme Jakobián\\\n",
    "<img src=\"./picture_gaussNewton1.PNG\" alt=\"Jakobián\"  width=\"300\"  height=\"150\">"
   ]
  },
  {
   "cell_type": "code",
   "execution_count": 230,
   "metadata": {},
   "outputs": [],
   "source": [
    "def Jacobian(fInput: typing.Callable[[float, float, npt.NDArray[np.float32]], npt.NDArray[np.float32]],\n",
    "             a: float,\n",
    "             b: float,\n",
    "             x: npt.NDArray[np.float32]) -> npt.NDArray[np.float32]:\n",
    "    delta: float = 1e-6\n",
    "    dfda: npt.NDArray[np.float32] = (fInput(a + delta, b, x) - fInput(a - delta, b, x))/(2*delta)\n",
    "    dfdb: npt.NDArray[np.float32] = (fInput(a, b + delta, x) - fInput(a, b - delta, x))/(2*delta)\n",
    "    return np.column_stack([dfda, dfdb])\n"
   ]
  },
  {
   "cell_type": "markdown",
   "metadata": {},
   "source": [
    "$\\beta_{t+1} = \\beta_{t} + ({J_t}^T·{J_t})^{-1} {J_t}^T·r_t$"
   ]
  },
  {
   "cell_type": "code",
   "execution_count": 231,
   "metadata": {},
   "outputs": [],
   "source": [
    "def gaussNewton(\n",
    "    fInput: typing.Callable[[float, float, npt.NDArray[np.float32]], npt.NDArray[np.float32]],\n",
    "    x: npt.NDArray[np.float32],\n",
    "    y: npt.NDArray[np.float32],\n",
    "    a0: float,\n",
    "    b0: float,\n",
    "    tolerance: typing.Optional[float] = 1e-6,\n",
    "    maxIter: typing.Optional[int] = 100\n",
    "):\n",
    "    old:npt.NDArray[np.float32] = np.array([a0,b0])\n",
    "    new:npt.NDArray[np.float32] = np.array([a0,b0])\n",
    "    iteration: int = 0\n",
    "    \n",
    "    #reziduál celkový budu řešit jako vektor\n",
    "    while (iteration < maxIter) and (np.linalg.norm(old-new) < tolerance):\n",
    "        old:npt.NDArray[np.float32] = new.copy()\n",
    "        \n",
    "        J       = Jacobian(fInput, a= old[0], b= old[1], x = x)\n",
    "        yTilde  = y - fInput(a=old[0], b= old[1], x = x)\n",
    "        #new     = old + ((J.T@J).I)@J.T@yTilde nemohu použít, protože je to array, nikoliv matice, potřebuji dostat obdobnou funkci bez zkratky\n",
    "        new     = old + np.linalg.inv(J.T@J)@J.T@yTilde\n",
    "        \n",
    "        iteration += 1\n",
    "    return new"
   ]
  },
  {
   "cell_type": "code",
   "execution_count": 232,
   "metadata": {},
   "outputs": [
    {
     "data": {
      "image/png": "[encoded data removed]",
      "text/plain": [
       "<Figure size 500x400 with 1 Axes>"
      ]
     },
     "metadata": {},
     "output_type": "display_data"
    }
   ],
   "source": [
    "chaosPercentage: float = 0.25\n",
    "a0 = np.random.uniform(low=(1.0-chaosPercentage)*a, high=(1.0+chaosPercentage)*a)\n",
    "b0 = np.random.uniform(low=(1.0-chaosPercentage)*b, high=(1.0+chaosPercentage)*b)\n",
    "aNew, bNew = gaussNewton(\n",
    "    fInput= functionPure,\n",
    "    x= x,\n",
    "    y= y,\n",
    "    a0 = a0,\n",
    "    b0 = b0,\n",
    "    tolerance=1e-12,\n",
    "    maxIter=10000\n",
    ")\n",
    "\n",
    "\n",
    "fig,ax = plt.subplots()\n",
    "ax.scatter(x,y, color=\"blue\")\n",
    "ax.plot(\n",
    "    x,\n",
    "    functionPure(a=a, b=b, x=x),\n",
    "    color=\"blue\"\n",
    ")\n",
    "\n",
    "ax.plot(\n",
    "    x,\n",
    "    functionPure(a=a0, b=b0, x=x),\n",
    "    color=\"red\"\n",
    ")\n",
    "xAvg: float = 0.5*(min(x)+max(x))\n",
    "yAvg: float = 0.5*(min(y)+max(y))\n",
    "ax.text(x=xAvg, y=yAvg*0.75,s=f\"a={a0:.3F}\")\n",
    "ax.text(x=xAvg, y=yAvg*0.50,s=f\"b={b0:.3F}\")\n",
    "ax.grid()\n",
    "\n",
    "fig.set_size_inches(5,4)"
   ]
  }
 ],
 "metadata": {
  "kernelspec": {
   "display_name": "Python 3",
   "language": "python",
   "name": "python3"
  },
  "language_info": {
   "codemirror_mode": {
    "name": "ipython",
    "version": 3
   },
   "file_extension": ".py",
   "mimetype": "text/x-python",
   "name": "python",
   "nbconvert_exporter": "python",
   "pygments_lexer": "ipython3",
   "version": "3.11.8"
  }
 },
 "nbformat": 4,
 "nbformat_minor": 2
}
